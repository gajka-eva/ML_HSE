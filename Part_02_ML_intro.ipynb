{
  "nbformat": 4,
  "nbformat_minor": 0,
  "metadata": {
    "colab": {
      "provenance": []
    },
    "kernelspec": {
      "name": "python3",
      "display_name": "Python 3"
    },
    "language_info": {
      "name": "python"
    }
  },
  "cells": [
    {
      "cell_type": "markdown",
      "source": [
        "## Домашнее задание № 2\n",
        "\n",
        "1. Обработка пропусков - удаление пропусков, поскольку их не такое большое количество.\n",
        "\n",
        "2. При обучении модели Doc2Vec на текстах меняем параметры: vector_size=10, а не 5.\n",
        "\n",
        "3. Используется LinearRegression и Ridge."
      ],
      "metadata": {
        "id": "QGM8Z4wCnEx-"
      }
    },
    {
      "cell_type": "code",
      "execution_count": 68,
      "metadata": {
        "id": "_Q2RpVxJ1-QM"
      },
      "outputs": [],
      "source": [
        "# импорты необходимых библиотек\n",
        "import pandas as pd\n",
        "\n",
        "import seaborn as sns\n",
        "import matplotlib.pyplot as plt\n",
        "# %matplotlib inline\n",
        "\n",
        "# import gensim\n",
        "from gensim.models.doc2vec import Doc2Vec, TaggedDocument\n",
        "from sklearn.linear_model import LinearRegression, Ridge, Lasso\n",
        "from sklearn.preprocessing import StandardScaler\n",
        "from sklearn.model_selection import train_test_split\n",
        "from sklearn.metrics import mean_absolute_error, mean_squared_error"
      ]
    },
    {
      "cell_type": "code",
      "source": [
        "data = pd.read_csv('/content/IMDB-Movie-Data.csv')\n",
        "print(data.shape)\n",
        "\n",
        "data.head(3)"
      ],
      "metadata": {
        "colab": {
          "base_uri": "https://localhost:8080/",
          "height": 343
        },
        "id": "w6i_a3U4UNhV",
        "outputId": "9e67a7f9-d006-47a1-9a50-c80a7bc57b80"
      },
      "execution_count": 69,
      "outputs": [
        {
          "output_type": "stream",
          "name": "stdout",
          "text": [
            "(1000, 12)\n"
          ]
        },
        {
          "output_type": "execute_result",
          "data": {
            "text/plain": [
              "   Rank                    Title                     Genre  \\\n",
              "0     1  Guardians of the Galaxy   Action,Adventure,Sci-Fi   \n",
              "1     2               Prometheus  Adventure,Mystery,Sci-Fi   \n",
              "2     3                    Split           Horror,Thriller   \n",
              "\n",
              "                                         Description            Director  \\\n",
              "0  A group of intergalactic criminals are forced ...          James Gunn   \n",
              "1  Following clues to the origin of mankind, a te...        Ridley Scott   \n",
              "2  Three girls are kidnapped by a man with a diag...  M. Night Shyamalan   \n",
              "\n",
              "                                              Actors  Year  Runtime (Minutes)  \\\n",
              "0  Chris Pratt, Vin Diesel, Bradley Cooper, Zoe S...  2014                121   \n",
              "1  Noomi Rapace, Logan Marshall-Green, Michael Fa...  2012                124   \n",
              "2  James McAvoy, Anya Taylor-Joy, Haley Lu Richar...  2016                117   \n",
              "\n",
              "   Rating   Votes  Revenue (Millions)  Metascore  \n",
              "0     8.1  757074              333.13       76.0  \n",
              "1     7.0  485820              126.46       65.0  \n",
              "2     7.3  157606              138.12       62.0  "
            ],
            "text/html": [
              "\n",
              "  <div id=\"df-b4990c3b-0f51-41b8-bab9-bfd3bdd76119\">\n",
              "    <div class=\"colab-df-container\">\n",
              "      <div>\n",
              "<style scoped>\n",
              "    .dataframe tbody tr th:only-of-type {\n",
              "        vertical-align: middle;\n",
              "    }\n",
              "\n",
              "    .dataframe tbody tr th {\n",
              "        vertical-align: top;\n",
              "    }\n",
              "\n",
              "    .dataframe thead th {\n",
              "        text-align: right;\n",
              "    }\n",
              "</style>\n",
              "<table border=\"1\" class=\"dataframe\">\n",
              "  <thead>\n",
              "    <tr style=\"text-align: right;\">\n",
              "      <th></th>\n",
              "      <th>Rank</th>\n",
              "      <th>Title</th>\n",
              "      <th>Genre</th>\n",
              "      <th>Description</th>\n",
              "      <th>Director</th>\n",
              "      <th>Actors</th>\n",
              "      <th>Year</th>\n",
              "      <th>Runtime (Minutes)</th>\n",
              "      <th>Rating</th>\n",
              "      <th>Votes</th>\n",
              "      <th>Revenue (Millions)</th>\n",
              "      <th>Metascore</th>\n",
              "    </tr>\n",
              "  </thead>\n",
              "  <tbody>\n",
              "    <tr>\n",
              "      <th>0</th>\n",
              "      <td>1</td>\n",
              "      <td>Guardians of the Galaxy</td>\n",
              "      <td>Action,Adventure,Sci-Fi</td>\n",
              "      <td>A group of intergalactic criminals are forced ...</td>\n",
              "      <td>James Gunn</td>\n",
              "      <td>Chris Pratt, Vin Diesel, Bradley Cooper, Zoe S...</td>\n",
              "      <td>2014</td>\n",
              "      <td>121</td>\n",
              "      <td>8.1</td>\n",
              "      <td>757074</td>\n",
              "      <td>333.13</td>\n",
              "      <td>76.0</td>\n",
              "    </tr>\n",
              "    <tr>\n",
              "      <th>1</th>\n",
              "      <td>2</td>\n",
              "      <td>Prometheus</td>\n",
              "      <td>Adventure,Mystery,Sci-Fi</td>\n",
              "      <td>Following clues to the origin of mankind, a te...</td>\n",
              "      <td>Ridley Scott</td>\n",
              "      <td>Noomi Rapace, Logan Marshall-Green, Michael Fa...</td>\n",
              "      <td>2012</td>\n",
              "      <td>124</td>\n",
              "      <td>7.0</td>\n",
              "      <td>485820</td>\n",
              "      <td>126.46</td>\n",
              "      <td>65.0</td>\n",
              "    </tr>\n",
              "    <tr>\n",
              "      <th>2</th>\n",
              "      <td>3</td>\n",
              "      <td>Split</td>\n",
              "      <td>Horror,Thriller</td>\n",
              "      <td>Three girls are kidnapped by a man with a diag...</td>\n",
              "      <td>M. Night Shyamalan</td>\n",
              "      <td>James McAvoy, Anya Taylor-Joy, Haley Lu Richar...</td>\n",
              "      <td>2016</td>\n",
              "      <td>117</td>\n",
              "      <td>7.3</td>\n",
              "      <td>157606</td>\n",
              "      <td>138.12</td>\n",
              "      <td>62.0</td>\n",
              "    </tr>\n",
              "  </tbody>\n",
              "</table>\n",
              "</div>\n",
              "      <button class=\"colab-df-convert\" onclick=\"convertToInteractive('df-b4990c3b-0f51-41b8-bab9-bfd3bdd76119')\"\n",
              "              title=\"Convert this dataframe to an interactive table.\"\n",
              "              style=\"display:none;\">\n",
              "        \n",
              "  <svg xmlns=\"http://www.w3.org/2000/svg\" height=\"24px\"viewBox=\"0 0 24 24\"\n",
              "       width=\"24px\">\n",
              "    <path d=\"M0 0h24v24H0V0z\" fill=\"none\"/>\n",
              "    <path d=\"M18.56 5.44l.94 2.06.94-2.06 2.06-.94-2.06-.94-.94-2.06-.94 2.06-2.06.94zm-11 1L8.5 8.5l.94-2.06 2.06-.94-2.06-.94L8.5 2.5l-.94 2.06-2.06.94zm10 10l.94 2.06.94-2.06 2.06-.94-2.06-.94-.94-2.06-.94 2.06-2.06.94z\"/><path d=\"M17.41 7.96l-1.37-1.37c-.4-.4-.92-.59-1.43-.59-.52 0-1.04.2-1.43.59L10.3 9.45l-7.72 7.72c-.78.78-.78 2.05 0 2.83L4 21.41c.39.39.9.59 1.41.59.51 0 1.02-.2 1.41-.59l7.78-7.78 2.81-2.81c.8-.78.8-2.07 0-2.86zM5.41 20L4 18.59l7.72-7.72 1.47 1.35L5.41 20z\"/>\n",
              "  </svg>\n",
              "      </button>\n",
              "      \n",
              "  <style>\n",
              "    .colab-df-container {\n",
              "      display:flex;\n",
              "      flex-wrap:wrap;\n",
              "      gap: 12px;\n",
              "    }\n",
              "\n",
              "    .colab-df-convert {\n",
              "      background-color: #E8F0FE;\n",
              "      border: none;\n",
              "      border-radius: 50%;\n",
              "      cursor: pointer;\n",
              "      display: none;\n",
              "      fill: #1967D2;\n",
              "      height: 32px;\n",
              "      padding: 0 0 0 0;\n",
              "      width: 32px;\n",
              "    }\n",
              "\n",
              "    .colab-df-convert:hover {\n",
              "      background-color: #E2EBFA;\n",
              "      box-shadow: 0px 1px 2px rgba(60, 64, 67, 0.3), 0px 1px 3px 1px rgba(60, 64, 67, 0.15);\n",
              "      fill: #174EA6;\n",
              "    }\n",
              "\n",
              "    [theme=dark] .colab-df-convert {\n",
              "      background-color: #3B4455;\n",
              "      fill: #D2E3FC;\n",
              "    }\n",
              "\n",
              "    [theme=dark] .colab-df-convert:hover {\n",
              "      background-color: #434B5C;\n",
              "      box-shadow: 0px 1px 3px 1px rgba(0, 0, 0, 0.15);\n",
              "      filter: drop-shadow(0px 1px 2px rgba(0, 0, 0, 0.3));\n",
              "      fill: #FFFFFF;\n",
              "    }\n",
              "  </style>\n",
              "\n",
              "      <script>\n",
              "        const buttonEl =\n",
              "          document.querySelector('#df-b4990c3b-0f51-41b8-bab9-bfd3bdd76119 button.colab-df-convert');\n",
              "        buttonEl.style.display =\n",
              "          google.colab.kernel.accessAllowed ? 'block' : 'none';\n",
              "\n",
              "        async function convertToInteractive(key) {\n",
              "          const element = document.querySelector('#df-b4990c3b-0f51-41b8-bab9-bfd3bdd76119');\n",
              "          const dataTable =\n",
              "            await google.colab.kernel.invokeFunction('convertToInteractive',\n",
              "                                                     [key], {});\n",
              "          if (!dataTable) return;\n",
              "\n",
              "          const docLinkHtml = 'Like what you see? Visit the ' +\n",
              "            '<a target=\"_blank\" href=https://colab.research.google.com/notebooks/data_table.ipynb>data table notebook</a>'\n",
              "            + ' to learn more about interactive tables.';\n",
              "          element.innerHTML = '';\n",
              "          dataTable['output_type'] = 'display_data';\n",
              "          await google.colab.output.renderOutput(dataTable, element);\n",
              "          const docLink = document.createElement('div');\n",
              "          docLink.innerHTML = docLinkHtml;\n",
              "          element.appendChild(docLink);\n",
              "        }\n",
              "      </script>\n",
              "    </div>\n",
              "  </div>\n",
              "  "
            ]
          },
          "metadata": {},
          "execution_count": 69
        }
      ]
    },
    {
      "cell_type": "code",
      "source": [
        "data.info()"
      ],
      "metadata": {
        "colab": {
          "base_uri": "https://localhost:8080/"
        },
        "id": "MsSPcnj3UcsU",
        "outputId": "76ec911b-3f4d-4700-e93b-0ea67093d9e2"
      },
      "execution_count": 70,
      "outputs": [
        {
          "output_type": "stream",
          "name": "stdout",
          "text": [
            "<class 'pandas.core.frame.DataFrame'>\n",
            "RangeIndex: 1000 entries, 0 to 999\n",
            "Data columns (total 12 columns):\n",
            " #   Column              Non-Null Count  Dtype  \n",
            "---  ------              --------------  -----  \n",
            " 0   Rank                1000 non-null   int64  \n",
            " 1   Title               1000 non-null   object \n",
            " 2   Genre               1000 non-null   object \n",
            " 3   Description         1000 non-null   object \n",
            " 4   Director            1000 non-null   object \n",
            " 5   Actors              1000 non-null   object \n",
            " 6   Year                1000 non-null   int64  \n",
            " 7   Runtime (Minutes)   1000 non-null   int64  \n",
            " 8   Rating              1000 non-null   float64\n",
            " 9   Votes               1000 non-null   int64  \n",
            " 10  Revenue (Millions)  872 non-null    float64\n",
            " 11  Metascore           936 non-null    float64\n",
            "dtypes: float64(3), int64(4), object(5)\n",
            "memory usage: 93.9+ KB\n"
          ]
        }
      ]
    },
    {
      "cell_type": "markdown",
      "source": [
        "Видим, что есть нулевые данные в столбцах \"Reveniue\" и \"Metascore\". Удаляем строки с пропусками.\n"
      ],
      "metadata": {
        "id": "1MsFqv34UtyT"
      }
    },
    {
      "cell_type": "code",
      "source": [
        "# удаляем пропуски\n",
        "data = data.dropna()\n",
        "\n",
        "# проверяем присутствие NaN\n",
        "data.isna().any()"
      ],
      "metadata": {
        "colab": {
          "base_uri": "https://localhost:8080/"
        },
        "id": "rRLy8KVxU8Ch",
        "outputId": "b03fa147-28a4-4df9-dd02-639834eaf63e"
      },
      "execution_count": 71,
      "outputs": [
        {
          "output_type": "execute_result",
          "data": {
            "text/plain": [
              "Rank                  False\n",
              "Title                 False\n",
              "Genre                 False\n",
              "Description           False\n",
              "Director              False\n",
              "Actors                False\n",
              "Year                  False\n",
              "Runtime (Minutes)     False\n",
              "Rating                False\n",
              "Votes                 False\n",
              "Revenue (Millions)    False\n",
              "Metascore             False\n",
              "dtype: bool"
            ]
          },
          "metadata": {},
          "execution_count": 71
        }
      ]
    },
    {
      "cell_type": "markdown",
      "source": [
        "### Подготовка данных\n",
        "\n",
        "Попробуем предсказывать рейтинг фильма по данным его описания, года, длины в минутах и кассовых сборов\n",
        "\n",
        "Колонка \"Rating\" станет целевой переменной, или таргетом (y)\n",
        "Остальных данные будут обучающей выборкой (X)\n"
      ],
      "metadata": {
        "id": "fvdUQcPOVwhj"
      }
    },
    {
      "cell_type": "code",
      "source": [
        "data.Description"
      ],
      "metadata": {
        "colab": {
          "base_uri": "https://localhost:8080/"
        },
        "id": "dWSz2nI4VtcH",
        "outputId": "e599684e-7571-4e4c-b1cc-771aca78082c"
      },
      "execution_count": 72,
      "outputs": [
        {
          "output_type": "execute_result",
          "data": {
            "text/plain": [
              "0      A group of intergalactic criminals are forced ...\n",
              "1      Following clues to the origin of mankind, a te...\n",
              "2      Three girls are kidnapped by a man with a diag...\n",
              "3      In a city of humanoid animals, a hustling thea...\n",
              "4      A secret government agency recruits some of th...\n",
              "                             ...                        \n",
              "993    While still out to destroy the evil Umbrella C...\n",
              "994    3 high school seniors throw a birthday party t...\n",
              "996    Three American college students studying abroa...\n",
              "997    Romantic sparks occur between two dance studen...\n",
              "999    A stuffy businessman finds himself trapped ins...\n",
              "Name: Description, Length: 838, dtype: object"
            ]
          },
          "metadata": {},
          "execution_count": 72
        }
      ]
    },
    {
      "cell_type": "code",
      "source": [
        "# подготовим описания фильмов\n",
        "# приведем все к нижнему регистру\n",
        "data[\"text\"] = data.Description.apply(lambda x: x.lower().split()) \n",
        "\n",
        "data[\"text\"]"
      ],
      "metadata": {
        "colab": {
          "base_uri": "https://localhost:8080/"
        },
        "id": "Wq6TUZVJWDkh",
        "outputId": "c9d97398-bb4b-4caa-e782-179dfd8f3ff6"
      },
      "execution_count": 73,
      "outputs": [
        {
          "output_type": "execute_result",
          "data": {
            "text/plain": [
              "0      [a, group, of, intergalactic, criminals, are, ...\n",
              "1      [following, clues, to, the, origin, of, mankin...\n",
              "2      [three, girls, are, kidnapped, by, a, man, wit...\n",
              "3      [in, a, city, of, humanoid, animals,, a, hustl...\n",
              "4      [a, secret, government, agency, recruits, some...\n",
              "                             ...                        \n",
              "993    [while, still, out, to, destroy, the, evil, um...\n",
              "994    [3, high, school, seniors, throw, a, birthday,...\n",
              "996    [three, american, college, students, studying,...\n",
              "997    [romantic, sparks, occur, between, two, dance,...\n",
              "999    [a, stuffy, businessman, finds, himself, trapp...\n",
              "Name: text, Length: 838, dtype: object"
            ]
          },
          "metadata": {},
          "execution_count": 73
        }
      ]
    },
    {
      "cell_type": "code",
      "source": [
        "#data.text.values\n",
        "\n",
        "input_text = list(data.text.values)"
      ],
      "metadata": {
        "id": "FU_Ztrj1WJCt"
      },
      "execution_count": 74,
      "outputs": []
    },
    {
      "cell_type": "code",
      "source": [
        "documents = [TaggedDocument(doc, [i]) for i, doc in enumerate(input_text)]\n",
        "documents[10:12]"
      ],
      "metadata": {
        "colab": {
          "base_uri": "https://localhost:8080/"
        },
        "id": "fJ4ba03HWWcQ",
        "outputId": "26c70678-bb61-4fba-e3dd-ccc6f4e89fa8"
      },
      "execution_count": 75,
      "outputs": [
        {
          "output_type": "execute_result",
          "data": {
            "text/plain": [
              "[TaggedDocument(words=['the', 'story', 'of', 'a', 'team', 'of', 'female', 'african-american', 'mathematicians', 'who', 'served', 'a', 'vital', 'role', 'in', 'nasa', 'during', 'the', 'early', 'years', 'of', 'the', 'u.s.', 'space', 'program.'], tags=[10]),\n",
              " TaggedDocument(words=['the', 'rebel', 'alliance', 'makes', 'a', 'risky', 'move', 'to', 'steal', 'the', 'plans', 'for', 'the', 'death', 'star,', 'setting', 'up', 'the', 'epic', 'saga', 'to', 'follow.'], tags=[11])]"
            ]
          },
          "metadata": {},
          "execution_count": 75
        }
      ]
    },
    {
      "cell_type": "markdown",
      "source": [
        "Обучаем модель на текстах описаний фильмов. Изменены параметры. Вместо vector_size=5 берем vectro_size=10. Изменение других параметров к более хорошим вариантам не привели."
      ],
      "metadata": {
        "id": "KAwk0n1NWoFw"
      }
    },
    {
      "cell_type": "code",
      "source": [
        "model = Doc2Vec(documents, vector_size=10, window=2, min_count=1, workers=4)"
      ],
      "metadata": {
        "id": "oBqIoiKEWdiH"
      },
      "execution_count": 77,
      "outputs": []
    },
    {
      "cell_type": "code",
      "source": [
        "model.save(\"D2V.model\") # сохранение модели"
      ],
      "metadata": {
        "id": "zhHwHN_2WsMl"
      },
      "execution_count": 78,
      "outputs": []
    },
    {
      "cell_type": "code",
      "source": [
        "# так можно посмотреть на векторы текстов, на которых училась модель\n",
        "# индекс [] около documents -- это индекс текста из датасета\n",
        "\n",
        "model.dv[documents[0].tags[0]]"
      ],
      "metadata": {
        "colab": {
          "base_uri": "https://localhost:8080/"
        },
        "id": "LV60t3o6Wvlu",
        "outputId": "b0767cfa-8a64-434b-94f5-58f05a168d2f"
      },
      "execution_count": 79,
      "outputs": [
        {
          "output_type": "execute_result",
          "data": {
            "text/plain": [
              "array([-0.01227106,  0.01687276, -0.06253909,  0.08252369,  0.07383683,\n",
              "        0.07122044,  0.08746436,  0.07678494, -0.3332221 , -0.07985588],\n",
              "      dtype=float32)"
            ]
          },
          "metadata": {},
          "execution_count": 79
        }
      ]
    },
    {
      "cell_type": "markdown",
      "source": [
        "Теперь нужно добавить векторы в датасет с остальными параметрами"
      ],
      "metadata": {
        "id": "PKjfNtKdW3K1"
      }
    },
    {
      "cell_type": "code",
      "source": [
        "# создадим список с векторами для каждого текста\n",
        "vectors = []\n",
        "for x in documents:\n",
        "    vec = list(model.dv[x.tags][0])\n",
        "    vectors.append(vec)"
      ],
      "metadata": {
        "id": "PDyCMqqdW0sd"
      },
      "execution_count": 80,
      "outputs": []
    },
    {
      "cell_type": "code",
      "source": [
        "# так получим датафрейм, где все компоненты векторов в отдельных столбцах\n",
        "split_df = pd.DataFrame(vectors,\n",
        "                        columns=['v1', 'v2', 'v3','v4',\"v5\", 'v6', 'v7', 'v8', 'v9', 'v10'])\n",
        "\n",
        "split_df"
      ],
      "metadata": {
        "colab": {
          "base_uri": "https://localhost:8080/",
          "height": 423
        },
        "id": "KmuuuQGrW7WY",
        "outputId": "d59eaf74-18e6-4736-c98b-0c2274d9c0b7"
      },
      "execution_count": 81,
      "outputs": [
        {
          "output_type": "execute_result",
          "data": {
            "text/plain": [
              "           v1        v2        v3        v4        v5        v6        v7  \\\n",
              "0   -0.012271  0.016873 -0.062539  0.082524  0.073837  0.071220  0.087464   \n",
              "1    0.060795  0.102217 -0.015932 -0.031301 -0.002146 -0.035142  0.169377   \n",
              "2    0.019787  0.147390 -0.005479  0.027772  0.120723  0.024080  0.202464   \n",
              "3    0.123063  0.196499 -0.016807 -0.048244  0.054565  0.121980  0.284362   \n",
              "4    0.028230  0.031464  0.085937 -0.088259  0.087351  0.041308  0.261676   \n",
              "..        ...       ...       ...       ...       ...       ...       ...   \n",
              "833 -0.003788  0.207584  0.138312  0.003274  0.162514  0.078346  0.432025   \n",
              "834  0.162929  0.110740  0.096853 -0.001289  0.086349  0.098972  0.398449   \n",
              "835  0.042628  0.086123  0.108166 -0.005595  0.125860  0.130880  0.175750   \n",
              "836  0.065441  0.120075  0.043109  0.047875 -0.045167  0.056735  0.154178   \n",
              "837  0.015546  0.164102  0.020850  0.017058  0.018361  0.047258  0.220428   \n",
              "\n",
              "           v8        v9       v10  \n",
              "0    0.076785 -0.333222 -0.079856  \n",
              "1    0.194300 -0.277242 -0.109442  \n",
              "2    0.097695 -0.315838 -0.248570  \n",
              "3    0.114921 -0.421155 -0.145116  \n",
              "4    0.153166 -0.264149 -0.213961  \n",
              "..        ...       ...       ...  \n",
              "833  0.259848 -0.417181 -0.223352  \n",
              "834  0.203325 -0.488422 -0.228388  \n",
              "835  0.165954 -0.378185 -0.097846  \n",
              "836  0.196909 -0.202333 -0.004620  \n",
              "837  0.205770 -0.137474 -0.119573  \n",
              "\n",
              "[838 rows x 10 columns]"
            ],
            "text/html": [
              "\n",
              "  <div id=\"df-4c8a2938-6257-4e4f-93da-cdb3b6ade1a2\">\n",
              "    <div class=\"colab-df-container\">\n",
              "      <div>\n",
              "<style scoped>\n",
              "    .dataframe tbody tr th:only-of-type {\n",
              "        vertical-align: middle;\n",
              "    }\n",
              "\n",
              "    .dataframe tbody tr th {\n",
              "        vertical-align: top;\n",
              "    }\n",
              "\n",
              "    .dataframe thead th {\n",
              "        text-align: right;\n",
              "    }\n",
              "</style>\n",
              "<table border=\"1\" class=\"dataframe\">\n",
              "  <thead>\n",
              "    <tr style=\"text-align: right;\">\n",
              "      <th></th>\n",
              "      <th>v1</th>\n",
              "      <th>v2</th>\n",
              "      <th>v3</th>\n",
              "      <th>v4</th>\n",
              "      <th>v5</th>\n",
              "      <th>v6</th>\n",
              "      <th>v7</th>\n",
              "      <th>v8</th>\n",
              "      <th>v9</th>\n",
              "      <th>v10</th>\n",
              "    </tr>\n",
              "  </thead>\n",
              "  <tbody>\n",
              "    <tr>\n",
              "      <th>0</th>\n",
              "      <td>-0.012271</td>\n",
              "      <td>0.016873</td>\n",
              "      <td>-0.062539</td>\n",
              "      <td>0.082524</td>\n",
              "      <td>0.073837</td>\n",
              "      <td>0.071220</td>\n",
              "      <td>0.087464</td>\n",
              "      <td>0.076785</td>\n",
              "      <td>-0.333222</td>\n",
              "      <td>-0.079856</td>\n",
              "    </tr>\n",
              "    <tr>\n",
              "      <th>1</th>\n",
              "      <td>0.060795</td>\n",
              "      <td>0.102217</td>\n",
              "      <td>-0.015932</td>\n",
              "      <td>-0.031301</td>\n",
              "      <td>-0.002146</td>\n",
              "      <td>-0.035142</td>\n",
              "      <td>0.169377</td>\n",
              "      <td>0.194300</td>\n",
              "      <td>-0.277242</td>\n",
              "      <td>-0.109442</td>\n",
              "    </tr>\n",
              "    <tr>\n",
              "      <th>2</th>\n",
              "      <td>0.019787</td>\n",
              "      <td>0.147390</td>\n",
              "      <td>-0.005479</td>\n",
              "      <td>0.027772</td>\n",
              "      <td>0.120723</td>\n",
              "      <td>0.024080</td>\n",
              "      <td>0.202464</td>\n",
              "      <td>0.097695</td>\n",
              "      <td>-0.315838</td>\n",
              "      <td>-0.248570</td>\n",
              "    </tr>\n",
              "    <tr>\n",
              "      <th>3</th>\n",
              "      <td>0.123063</td>\n",
              "      <td>0.196499</td>\n",
              "      <td>-0.016807</td>\n",
              "      <td>-0.048244</td>\n",
              "      <td>0.054565</td>\n",
              "      <td>0.121980</td>\n",
              "      <td>0.284362</td>\n",
              "      <td>0.114921</td>\n",
              "      <td>-0.421155</td>\n",
              "      <td>-0.145116</td>\n",
              "    </tr>\n",
              "    <tr>\n",
              "      <th>4</th>\n",
              "      <td>0.028230</td>\n",
              "      <td>0.031464</td>\n",
              "      <td>0.085937</td>\n",
              "      <td>-0.088259</td>\n",
              "      <td>0.087351</td>\n",
              "      <td>0.041308</td>\n",
              "      <td>0.261676</td>\n",
              "      <td>0.153166</td>\n",
              "      <td>-0.264149</td>\n",
              "      <td>-0.213961</td>\n",
              "    </tr>\n",
              "    <tr>\n",
              "      <th>...</th>\n",
              "      <td>...</td>\n",
              "      <td>...</td>\n",
              "      <td>...</td>\n",
              "      <td>...</td>\n",
              "      <td>...</td>\n",
              "      <td>...</td>\n",
              "      <td>...</td>\n",
              "      <td>...</td>\n",
              "      <td>...</td>\n",
              "      <td>...</td>\n",
              "    </tr>\n",
              "    <tr>\n",
              "      <th>833</th>\n",
              "      <td>-0.003788</td>\n",
              "      <td>0.207584</td>\n",
              "      <td>0.138312</td>\n",
              "      <td>0.003274</td>\n",
              "      <td>0.162514</td>\n",
              "      <td>0.078346</td>\n",
              "      <td>0.432025</td>\n",
              "      <td>0.259848</td>\n",
              "      <td>-0.417181</td>\n",
              "      <td>-0.223352</td>\n",
              "    </tr>\n",
              "    <tr>\n",
              "      <th>834</th>\n",
              "      <td>0.162929</td>\n",
              "      <td>0.110740</td>\n",
              "      <td>0.096853</td>\n",
              "      <td>-0.001289</td>\n",
              "      <td>0.086349</td>\n",
              "      <td>0.098972</td>\n",
              "      <td>0.398449</td>\n",
              "      <td>0.203325</td>\n",
              "      <td>-0.488422</td>\n",
              "      <td>-0.228388</td>\n",
              "    </tr>\n",
              "    <tr>\n",
              "      <th>835</th>\n",
              "      <td>0.042628</td>\n",
              "      <td>0.086123</td>\n",
              "      <td>0.108166</td>\n",
              "      <td>-0.005595</td>\n",
              "      <td>0.125860</td>\n",
              "      <td>0.130880</td>\n",
              "      <td>0.175750</td>\n",
              "      <td>0.165954</td>\n",
              "      <td>-0.378185</td>\n",
              "      <td>-0.097846</td>\n",
              "    </tr>\n",
              "    <tr>\n",
              "      <th>836</th>\n",
              "      <td>0.065441</td>\n",
              "      <td>0.120075</td>\n",
              "      <td>0.043109</td>\n",
              "      <td>0.047875</td>\n",
              "      <td>-0.045167</td>\n",
              "      <td>0.056735</td>\n",
              "      <td>0.154178</td>\n",
              "      <td>0.196909</td>\n",
              "      <td>-0.202333</td>\n",
              "      <td>-0.004620</td>\n",
              "    </tr>\n",
              "    <tr>\n",
              "      <th>837</th>\n",
              "      <td>0.015546</td>\n",
              "      <td>0.164102</td>\n",
              "      <td>0.020850</td>\n",
              "      <td>0.017058</td>\n",
              "      <td>0.018361</td>\n",
              "      <td>0.047258</td>\n",
              "      <td>0.220428</td>\n",
              "      <td>0.205770</td>\n",
              "      <td>-0.137474</td>\n",
              "      <td>-0.119573</td>\n",
              "    </tr>\n",
              "  </tbody>\n",
              "</table>\n",
              "<p>838 rows × 10 columns</p>\n",
              "</div>\n",
              "      <button class=\"colab-df-convert\" onclick=\"convertToInteractive('df-4c8a2938-6257-4e4f-93da-cdb3b6ade1a2')\"\n",
              "              title=\"Convert this dataframe to an interactive table.\"\n",
              "              style=\"display:none;\">\n",
              "        \n",
              "  <svg xmlns=\"http://www.w3.org/2000/svg\" height=\"24px\"viewBox=\"0 0 24 24\"\n",
              "       width=\"24px\">\n",
              "    <path d=\"M0 0h24v24H0V0z\" fill=\"none\"/>\n",
              "    <path d=\"M18.56 5.44l.94 2.06.94-2.06 2.06-.94-2.06-.94-.94-2.06-.94 2.06-2.06.94zm-11 1L8.5 8.5l.94-2.06 2.06-.94-2.06-.94L8.5 2.5l-.94 2.06-2.06.94zm10 10l.94 2.06.94-2.06 2.06-.94-2.06-.94-.94-2.06-.94 2.06-2.06.94z\"/><path d=\"M17.41 7.96l-1.37-1.37c-.4-.4-.92-.59-1.43-.59-.52 0-1.04.2-1.43.59L10.3 9.45l-7.72 7.72c-.78.78-.78 2.05 0 2.83L4 21.41c.39.39.9.59 1.41.59.51 0 1.02-.2 1.41-.59l7.78-7.78 2.81-2.81c.8-.78.8-2.07 0-2.86zM5.41 20L4 18.59l7.72-7.72 1.47 1.35L5.41 20z\"/>\n",
              "  </svg>\n",
              "      </button>\n",
              "      \n",
              "  <style>\n",
              "    .colab-df-container {\n",
              "      display:flex;\n",
              "      flex-wrap:wrap;\n",
              "      gap: 12px;\n",
              "    }\n",
              "\n",
              "    .colab-df-convert {\n",
              "      background-color: #E8F0FE;\n",
              "      border: none;\n",
              "      border-radius: 50%;\n",
              "      cursor: pointer;\n",
              "      display: none;\n",
              "      fill: #1967D2;\n",
              "      height: 32px;\n",
              "      padding: 0 0 0 0;\n",
              "      width: 32px;\n",
              "    }\n",
              "\n",
              "    .colab-df-convert:hover {\n",
              "      background-color: #E2EBFA;\n",
              "      box-shadow: 0px 1px 2px rgba(60, 64, 67, 0.3), 0px 1px 3px 1px rgba(60, 64, 67, 0.15);\n",
              "      fill: #174EA6;\n",
              "    }\n",
              "\n",
              "    [theme=dark] .colab-df-convert {\n",
              "      background-color: #3B4455;\n",
              "      fill: #D2E3FC;\n",
              "    }\n",
              "\n",
              "    [theme=dark] .colab-df-convert:hover {\n",
              "      background-color: #434B5C;\n",
              "      box-shadow: 0px 1px 3px 1px rgba(0, 0, 0, 0.15);\n",
              "      filter: drop-shadow(0px 1px 2px rgba(0, 0, 0, 0.3));\n",
              "      fill: #FFFFFF;\n",
              "    }\n",
              "  </style>\n",
              "\n",
              "      <script>\n",
              "        const buttonEl =\n",
              "          document.querySelector('#df-4c8a2938-6257-4e4f-93da-cdb3b6ade1a2 button.colab-df-convert');\n",
              "        buttonEl.style.display =\n",
              "          google.colab.kernel.accessAllowed ? 'block' : 'none';\n",
              "\n",
              "        async function convertToInteractive(key) {\n",
              "          const element = document.querySelector('#df-4c8a2938-6257-4e4f-93da-cdb3b6ade1a2');\n",
              "          const dataTable =\n",
              "            await google.colab.kernel.invokeFunction('convertToInteractive',\n",
              "                                                     [key], {});\n",
              "          if (!dataTable) return;\n",
              "\n",
              "          const docLinkHtml = 'Like what you see? Visit the ' +\n",
              "            '<a target=\"_blank\" href=https://colab.research.google.com/notebooks/data_table.ipynb>data table notebook</a>'\n",
              "            + ' to learn more about interactive tables.';\n",
              "          element.innerHTML = '';\n",
              "          dataTable['output_type'] = 'display_data';\n",
              "          await google.colab.output.renderOutput(dataTable, element);\n",
              "          const docLink = document.createElement('div');\n",
              "          docLink.innerHTML = docLinkHtml;\n",
              "          element.appendChild(docLink);\n",
              "        }\n",
              "      </script>\n",
              "    </div>\n",
              "  </div>\n",
              "  "
            ]
          },
          "metadata": {},
          "execution_count": 81
        }
      ]
    },
    {
      "cell_type": "code",
      "source": [
        "# теперь добавим его к основному датафрейму\n",
        "result = data.join(split_df, how='left')\n",
        "result.shape"
      ],
      "metadata": {
        "colab": {
          "base_uri": "https://localhost:8080/"
        },
        "id": "-39CjTYgXGe3",
        "outputId": "2502c261-7646-45a0-d9cd-5866bf5e54ea"
      },
      "execution_count": 82,
      "outputs": [
        {
          "output_type": "execute_result",
          "data": {
            "text/plain": [
              "(838, 23)"
            ]
          },
          "metadata": {},
          "execution_count": 82
        }
      ]
    },
    {
      "cell_type": "code",
      "source": [
        "result = result.dropna()\n",
        "result.info()"
      ],
      "metadata": {
        "colab": {
          "base_uri": "https://localhost:8080/"
        },
        "id": "t7GZs6qTXehH",
        "outputId": "5d195d7c-c821-4323-9a86-58606f9ca5df"
      },
      "execution_count": 83,
      "outputs": [
        {
          "output_type": "stream",
          "name": "stdout",
          "text": [
            "<class 'pandas.core.frame.DataFrame'>\n",
            "Int64Index: 712 entries, 0 to 837\n",
            "Data columns (total 23 columns):\n",
            " #   Column              Non-Null Count  Dtype  \n",
            "---  ------              --------------  -----  \n",
            " 0   Rank                712 non-null    int64  \n",
            " 1   Title               712 non-null    object \n",
            " 2   Genre               712 non-null    object \n",
            " 3   Description         712 non-null    object \n",
            " 4   Director            712 non-null    object \n",
            " 5   Actors              712 non-null    object \n",
            " 6   Year                712 non-null    int64  \n",
            " 7   Runtime (Minutes)   712 non-null    int64  \n",
            " 8   Rating              712 non-null    float64\n",
            " 9   Votes               712 non-null    int64  \n",
            " 10  Revenue (Millions)  712 non-null    float64\n",
            " 11  Metascore           712 non-null    float64\n",
            " 12  text                712 non-null    object \n",
            " 13  v1                  712 non-null    float32\n",
            " 14  v2                  712 non-null    float32\n",
            " 15  v3                  712 non-null    float32\n",
            " 16  v4                  712 non-null    float32\n",
            " 17  v5                  712 non-null    float32\n",
            " 18  v6                  712 non-null    float32\n",
            " 19  v7                  712 non-null    float32\n",
            " 20  v8                  712 non-null    float32\n",
            " 21  v9                  712 non-null    float32\n",
            " 22  v10                 712 non-null    float32\n",
            "dtypes: float32(10), float64(3), int64(4), object(6)\n",
            "memory usage: 105.7+ KB\n"
          ]
        }
      ]
    },
    {
      "cell_type": "code",
      "source": [
        "# переопределим датасет, оставив только важное\n",
        "\n",
        "data_sm = result[['Runtime (Minutes)',\"Year\",\n",
        "                'Rating', 'Votes',\n",
        "                'Revenue (Millions)','Metascore',\"v1\",\"v2\",\"v3\",\"v4\",\"v5\", 'v6', 'v7', 'v8', 'v9', 'v10']\n",
        "              ]\n",
        "\n",
        "\n",
        "data_sm.head(3)"
      ],
      "metadata": {
        "colab": {
          "base_uri": "https://localhost:8080/",
          "height": 225
        },
        "id": "r8wbgqeiXhau",
        "outputId": "ed78e2b1-8bc8-4c20-bc6f-a669df932773"
      },
      "execution_count": 84,
      "outputs": [
        {
          "output_type": "execute_result",
          "data": {
            "text/plain": [
              "   Runtime (Minutes)  Year  Rating   Votes  Revenue (Millions)  Metascore  \\\n",
              "0                121  2014     8.1  757074              333.13       76.0   \n",
              "1                124  2012     7.0  485820              126.46       65.0   \n",
              "2                117  2016     7.3  157606              138.12       62.0   \n",
              "\n",
              "         v1        v2        v3        v4        v5        v6        v7  \\\n",
              "0 -0.012271  0.016873 -0.062539  0.082524  0.073837  0.071220  0.087464   \n",
              "1  0.060795  0.102217 -0.015932 -0.031301 -0.002146 -0.035142  0.169377   \n",
              "2  0.019787  0.147390 -0.005479  0.027772  0.120723  0.024080  0.202464   \n",
              "\n",
              "         v8        v9       v10  \n",
              "0  0.076785 -0.333222 -0.079856  \n",
              "1  0.194300 -0.277242 -0.109442  \n",
              "2  0.097695 -0.315838 -0.248570  "
            ],
            "text/html": [
              "\n",
              "  <div id=\"df-c83e8387-183e-4ddc-b45f-8c66ffc000e3\">\n",
              "    <div class=\"colab-df-container\">\n",
              "      <div>\n",
              "<style scoped>\n",
              "    .dataframe tbody tr th:only-of-type {\n",
              "        vertical-align: middle;\n",
              "    }\n",
              "\n",
              "    .dataframe tbody tr th {\n",
              "        vertical-align: top;\n",
              "    }\n",
              "\n",
              "    .dataframe thead th {\n",
              "        text-align: right;\n",
              "    }\n",
              "</style>\n",
              "<table border=\"1\" class=\"dataframe\">\n",
              "  <thead>\n",
              "    <tr style=\"text-align: right;\">\n",
              "      <th></th>\n",
              "      <th>Runtime (Minutes)</th>\n",
              "      <th>Year</th>\n",
              "      <th>Rating</th>\n",
              "      <th>Votes</th>\n",
              "      <th>Revenue (Millions)</th>\n",
              "      <th>Metascore</th>\n",
              "      <th>v1</th>\n",
              "      <th>v2</th>\n",
              "      <th>v3</th>\n",
              "      <th>v4</th>\n",
              "      <th>v5</th>\n",
              "      <th>v6</th>\n",
              "      <th>v7</th>\n",
              "      <th>v8</th>\n",
              "      <th>v9</th>\n",
              "      <th>v10</th>\n",
              "    </tr>\n",
              "  </thead>\n",
              "  <tbody>\n",
              "    <tr>\n",
              "      <th>0</th>\n",
              "      <td>121</td>\n",
              "      <td>2014</td>\n",
              "      <td>8.1</td>\n",
              "      <td>757074</td>\n",
              "      <td>333.13</td>\n",
              "      <td>76.0</td>\n",
              "      <td>-0.012271</td>\n",
              "      <td>0.016873</td>\n",
              "      <td>-0.062539</td>\n",
              "      <td>0.082524</td>\n",
              "      <td>0.073837</td>\n",
              "      <td>0.071220</td>\n",
              "      <td>0.087464</td>\n",
              "      <td>0.076785</td>\n",
              "      <td>-0.333222</td>\n",
              "      <td>-0.079856</td>\n",
              "    </tr>\n",
              "    <tr>\n",
              "      <th>1</th>\n",
              "      <td>124</td>\n",
              "      <td>2012</td>\n",
              "      <td>7.0</td>\n",
              "      <td>485820</td>\n",
              "      <td>126.46</td>\n",
              "      <td>65.0</td>\n",
              "      <td>0.060795</td>\n",
              "      <td>0.102217</td>\n",
              "      <td>-0.015932</td>\n",
              "      <td>-0.031301</td>\n",
              "      <td>-0.002146</td>\n",
              "      <td>-0.035142</td>\n",
              "      <td>0.169377</td>\n",
              "      <td>0.194300</td>\n",
              "      <td>-0.277242</td>\n",
              "      <td>-0.109442</td>\n",
              "    </tr>\n",
              "    <tr>\n",
              "      <th>2</th>\n",
              "      <td>117</td>\n",
              "      <td>2016</td>\n",
              "      <td>7.3</td>\n",
              "      <td>157606</td>\n",
              "      <td>138.12</td>\n",
              "      <td>62.0</td>\n",
              "      <td>0.019787</td>\n",
              "      <td>0.147390</td>\n",
              "      <td>-0.005479</td>\n",
              "      <td>0.027772</td>\n",
              "      <td>0.120723</td>\n",
              "      <td>0.024080</td>\n",
              "      <td>0.202464</td>\n",
              "      <td>0.097695</td>\n",
              "      <td>-0.315838</td>\n",
              "      <td>-0.248570</td>\n",
              "    </tr>\n",
              "  </tbody>\n",
              "</table>\n",
              "</div>\n",
              "      <button class=\"colab-df-convert\" onclick=\"convertToInteractive('df-c83e8387-183e-4ddc-b45f-8c66ffc000e3')\"\n",
              "              title=\"Convert this dataframe to an interactive table.\"\n",
              "              style=\"display:none;\">\n",
              "        \n",
              "  <svg xmlns=\"http://www.w3.org/2000/svg\" height=\"24px\"viewBox=\"0 0 24 24\"\n",
              "       width=\"24px\">\n",
              "    <path d=\"M0 0h24v24H0V0z\" fill=\"none\"/>\n",
              "    <path d=\"M18.56 5.44l.94 2.06.94-2.06 2.06-.94-2.06-.94-.94-2.06-.94 2.06-2.06.94zm-11 1L8.5 8.5l.94-2.06 2.06-.94-2.06-.94L8.5 2.5l-.94 2.06-2.06.94zm10 10l.94 2.06.94-2.06 2.06-.94-2.06-.94-.94-2.06-.94 2.06-2.06.94z\"/><path d=\"M17.41 7.96l-1.37-1.37c-.4-.4-.92-.59-1.43-.59-.52 0-1.04.2-1.43.59L10.3 9.45l-7.72 7.72c-.78.78-.78 2.05 0 2.83L4 21.41c.39.39.9.59 1.41.59.51 0 1.02-.2 1.41-.59l7.78-7.78 2.81-2.81c.8-.78.8-2.07 0-2.86zM5.41 20L4 18.59l7.72-7.72 1.47 1.35L5.41 20z\"/>\n",
              "  </svg>\n",
              "      </button>\n",
              "      \n",
              "  <style>\n",
              "    .colab-df-container {\n",
              "      display:flex;\n",
              "      flex-wrap:wrap;\n",
              "      gap: 12px;\n",
              "    }\n",
              "\n",
              "    .colab-df-convert {\n",
              "      background-color: #E8F0FE;\n",
              "      border: none;\n",
              "      border-radius: 50%;\n",
              "      cursor: pointer;\n",
              "      display: none;\n",
              "      fill: #1967D2;\n",
              "      height: 32px;\n",
              "      padding: 0 0 0 0;\n",
              "      width: 32px;\n",
              "    }\n",
              "\n",
              "    .colab-df-convert:hover {\n",
              "      background-color: #E2EBFA;\n",
              "      box-shadow: 0px 1px 2px rgba(60, 64, 67, 0.3), 0px 1px 3px 1px rgba(60, 64, 67, 0.15);\n",
              "      fill: #174EA6;\n",
              "    }\n",
              "\n",
              "    [theme=dark] .colab-df-convert {\n",
              "      background-color: #3B4455;\n",
              "      fill: #D2E3FC;\n",
              "    }\n",
              "\n",
              "    [theme=dark] .colab-df-convert:hover {\n",
              "      background-color: #434B5C;\n",
              "      box-shadow: 0px 1px 3px 1px rgba(0, 0, 0, 0.15);\n",
              "      filter: drop-shadow(0px 1px 2px rgba(0, 0, 0, 0.3));\n",
              "      fill: #FFFFFF;\n",
              "    }\n",
              "  </style>\n",
              "\n",
              "      <script>\n",
              "        const buttonEl =\n",
              "          document.querySelector('#df-c83e8387-183e-4ddc-b45f-8c66ffc000e3 button.colab-df-convert');\n",
              "        buttonEl.style.display =\n",
              "          google.colab.kernel.accessAllowed ? 'block' : 'none';\n",
              "\n",
              "        async function convertToInteractive(key) {\n",
              "          const element = document.querySelector('#df-c83e8387-183e-4ddc-b45f-8c66ffc000e3');\n",
              "          const dataTable =\n",
              "            await google.colab.kernel.invokeFunction('convertToInteractive',\n",
              "                                                     [key], {});\n",
              "          if (!dataTable) return;\n",
              "\n",
              "          const docLinkHtml = 'Like what you see? Visit the ' +\n",
              "            '<a target=\"_blank\" href=https://colab.research.google.com/notebooks/data_table.ipynb>data table notebook</a>'\n",
              "            + ' to learn more about interactive tables.';\n",
              "          element.innerHTML = '';\n",
              "          dataTable['output_type'] = 'display_data';\n",
              "          await google.colab.output.renderOutput(dataTable, element);\n",
              "          const docLink = document.createElement('div');\n",
              "          docLink.innerHTML = docLinkHtml;\n",
              "          element.appendChild(docLink);\n",
              "        }\n",
              "      </script>\n",
              "    </div>\n",
              "  </div>\n",
              "  "
            ]
          },
          "metadata": {},
          "execution_count": 84
        }
      ]
    },
    {
      "cell_type": "markdown",
      "source": [
        "### Подготавливаем матрицы"
      ],
      "metadata": {
        "id": "LQebl7zXY9Ci"
      }
    },
    {
      "cell_type": "code",
      "source": [
        "# определяем X и y\n",
        "\n",
        "X = data_sm.drop([\"Rating\"],axis=1).values \n",
        "\n",
        "display(X, X.shape)"
      ],
      "metadata": {
        "colab": {
          "base_uri": "https://localhost:8080/",
          "height": 260
        },
        "id": "_C1tnCAMY6GL",
        "outputId": "d4651302-5006-4bb9-ff98-0cb5d65ee431"
      },
      "execution_count": 85,
      "outputs": [
        {
          "output_type": "display_data",
          "data": {
            "text/plain": [
              "array([[ 1.21000000e+02,  2.01400000e+03,  7.57074000e+05, ...,\n",
              "         7.67849386e-02, -3.33222091e-01, -7.98558816e-02],\n",
              "       [ 1.24000000e+02,  2.01200000e+03,  4.85820000e+05, ...,\n",
              "         1.94300041e-01, -2.77241707e-01, -1.09441757e-01],\n",
              "       [ 1.17000000e+02,  2.01600000e+03,  1.57606000e+05, ...,\n",
              "         9.76945907e-02, -3.15837830e-01, -2.48570070e-01],\n",
              "       ...,\n",
              "       [ 1.08000000e+02,  2.01400000e+03,  3.88040000e+04, ...,\n",
              "         1.65954232e-01, -3.78184855e-01, -9.78456214e-02],\n",
              "       [ 1.28000000e+02,  2.01600000e+03,  5.53100000e+03, ...,\n",
              "         1.96909323e-01, -2.02333316e-01, -4.62046172e-03],\n",
              "       [ 1.13000000e+02,  2.00800000e+03,  1.63144000e+05, ...,\n",
              "         2.05769718e-01, -1.37473911e-01, -1.19573258e-01]])"
            ]
          },
          "metadata": {}
        },
        {
          "output_type": "display_data",
          "data": {
            "text/plain": [
              "(712, 15)"
            ]
          },
          "metadata": {}
        }
      ]
    },
    {
      "cell_type": "code",
      "source": [
        "data_sm.isna().any()"
      ],
      "metadata": {
        "colab": {
          "base_uri": "https://localhost:8080/"
        },
        "id": "bPVNpXq7ZBv1",
        "outputId": "48439140-e43e-4384-8de6-2b6f537dd8fe"
      },
      "execution_count": 86,
      "outputs": [
        {
          "output_type": "execute_result",
          "data": {
            "text/plain": [
              "Runtime (Minutes)     False\n",
              "Year                  False\n",
              "Rating                False\n",
              "Votes                 False\n",
              "Revenue (Millions)    False\n",
              "Metascore             False\n",
              "v1                    False\n",
              "v2                    False\n",
              "v3                    False\n",
              "v4                    False\n",
              "v5                    False\n",
              "v6                    False\n",
              "v7                    False\n",
              "v8                    False\n",
              "v9                    False\n",
              "v10                   False\n",
              "dtype: bool"
            ]
          },
          "metadata": {},
          "execution_count": 86
        }
      ]
    },
    {
      "cell_type": "code",
      "source": [
        "y = data_sm['Rating'].values # отдельно вынесли массив со значениями скорости ветра\n",
        "y.shape"
      ],
      "metadata": {
        "colab": {
          "base_uri": "https://localhost:8080/"
        },
        "id": "frmYB4f7ZE08",
        "outputId": "346a1212-55af-41a8-a7cc-0576dc328f16"
      },
      "execution_count": 87,
      "outputs": [
        {
          "output_type": "execute_result",
          "data": {
            "text/plain": [
              "(712,)"
            ]
          },
          "metadata": {},
          "execution_count": 87
        }
      ]
    },
    {
      "cell_type": "markdown",
      "source": [
        "Иногда бывает полезно нормализовать данные: это позволяет исправить ситуацию, когда признаки представлены в разных единацах измерения. Для этого используется StandardScaler.\n",
        "\n",
        "До нормализации:"
      ],
      "metadata": {
        "id": "kmQ5ZnMIZMEZ"
      }
    },
    {
      "cell_type": "code",
      "source": [
        "list(X[0])"
      ],
      "metadata": {
        "colab": {
          "base_uri": "https://localhost:8080/"
        },
        "id": "OdZUSv_SZJB6",
        "outputId": "df71c9a3-6c72-4519-b18c-74be12066eae"
      },
      "execution_count": 88,
      "outputs": [
        {
          "output_type": "execute_result",
          "data": {
            "text/plain": [
              "[121.0,\n",
              " 2014.0,\n",
              " 757074.0,\n",
              " 333.13,\n",
              " 76.0,\n",
              " -0.012271064333617687,\n",
              " 0.016872763633728027,\n",
              " -0.06253909319639206,\n",
              " 0.08252368867397308,\n",
              " 0.07383682578802109,\n",
              " 0.07122044265270233,\n",
              " 0.0874643623828888,\n",
              " 0.07678493857383728,\n",
              " -0.33322209119796753,\n",
              " -0.07985588163137436]"
            ]
          },
          "metadata": {},
          "execution_count": 88
        }
      ]
    },
    {
      "cell_type": "code",
      "source": [
        "# используем стандартизатор\n",
        "sc = StandardScaler()\n",
        "\n",
        "X_train, X_test, y_train, y_test = train_test_split(sc.fit_transform(X), y, random_state=42)"
      ],
      "metadata": {
        "id": "w-56tR05ZP6T"
      },
      "execution_count": 89,
      "outputs": []
    },
    {
      "cell_type": "markdown",
      "source": [
        "После:"
      ],
      "metadata": {
        "id": "9N4OfXzrZV-L"
      }
    },
    {
      "cell_type": "code",
      "source": [
        "list(sc.fit_transform(X)[0])"
      ],
      "metadata": {
        "colab": {
          "base_uri": "https://localhost:8080/"
        },
        "id": "IkFsr3OgZTOm",
        "outputId": "ff881b61-db5e-4ec6-9361-61c00aa4ede3"
      },
      "execution_count": 90,
      "outputs": [
        {
          "output_type": "execute_result",
          "data": {
            "text/plain": [
              "[0.291007552571261,\n",
              " 0.4090342348627316,\n",
              " 2.7018134034374643,\n",
              " 2.2071532994957423,\n",
              " 0.9140238266037984,\n",
              " -1.095142079352365,\n",
              " -1.4882140068536893,\n",
              " -1.793751563307469,\n",
              " 1.4304787577540878,\n",
              " 0.0921426249929003,\n",
              " -0.5338904475206026,\n",
              " -1.67489872346434,\n",
              " -1.3368648162147279,\n",
              " 0.31189319025887535,\n",
              " 0.9720200956378233]"
            ]
          },
          "metadata": {},
          "execution_count": 90
        }
      ]
    },
    {
      "cell_type": "code",
      "source": [
        "# задаем модель регрессора\n",
        "# силу регуляризации можно варьировать параметром alpha\n",
        "regressor_1 = LinearRegression()\n",
        "regressor_2 = Ridge() # варьирование параметра alpha значение метрик не улучшило\n",
        "\n",
        "# обучаем\n",
        "regressor_1.fit(X_train, y_train)\n",
        "regressor_2.fit(X_train, y_train)"
      ],
      "metadata": {
        "colab": {
          "base_uri": "https://localhost:8080/",
          "height": 74
        },
        "id": "Bt-w-BpUZY0d",
        "outputId": "56e14b49-c57d-4f5c-a849-591d42f9e76f"
      },
      "execution_count": 92,
      "outputs": [
        {
          "output_type": "execute_result",
          "data": {
            "text/plain": [
              "Ridge()"
            ],
            "text/html": [
              "<style>#sk-container-id-3 {color: black;background-color: white;}#sk-container-id-3 pre{padding: 0;}#sk-container-id-3 div.sk-toggleable {background-color: white;}#sk-container-id-3 label.sk-toggleable__label {cursor: pointer;display: block;width: 100%;margin-bottom: 0;padding: 0.3em;box-sizing: border-box;text-align: center;}#sk-container-id-3 label.sk-toggleable__label-arrow:before {content: \"▸\";float: left;margin-right: 0.25em;color: #696969;}#sk-container-id-3 label.sk-toggleable__label-arrow:hover:before {color: black;}#sk-container-id-3 div.sk-estimator:hover label.sk-toggleable__label-arrow:before {color: black;}#sk-container-id-3 div.sk-toggleable__content {max-height: 0;max-width: 0;overflow: hidden;text-align: left;background-color: #f0f8ff;}#sk-container-id-3 div.sk-toggleable__content pre {margin: 0.2em;color: black;border-radius: 0.25em;background-color: #f0f8ff;}#sk-container-id-3 input.sk-toggleable__control:checked~div.sk-toggleable__content {max-height: 200px;max-width: 100%;overflow: auto;}#sk-container-id-3 input.sk-toggleable__control:checked~label.sk-toggleable__label-arrow:before {content: \"▾\";}#sk-container-id-3 div.sk-estimator input.sk-toggleable__control:checked~label.sk-toggleable__label {background-color: #d4ebff;}#sk-container-id-3 div.sk-label input.sk-toggleable__control:checked~label.sk-toggleable__label {background-color: #d4ebff;}#sk-container-id-3 input.sk-hidden--visually {border: 0;clip: rect(1px 1px 1px 1px);clip: rect(1px, 1px, 1px, 1px);height: 1px;margin: -1px;overflow: hidden;padding: 0;position: absolute;width: 1px;}#sk-container-id-3 div.sk-estimator {font-family: monospace;background-color: #f0f8ff;border: 1px dotted black;border-radius: 0.25em;box-sizing: border-box;margin-bottom: 0.5em;}#sk-container-id-3 div.sk-estimator:hover {background-color: #d4ebff;}#sk-container-id-3 div.sk-parallel-item::after {content: \"\";width: 100%;border-bottom: 1px solid gray;flex-grow: 1;}#sk-container-id-3 div.sk-label:hover label.sk-toggleable__label {background-color: #d4ebff;}#sk-container-id-3 div.sk-serial::before {content: \"\";position: absolute;border-left: 1px solid gray;box-sizing: border-box;top: 0;bottom: 0;left: 50%;z-index: 0;}#sk-container-id-3 div.sk-serial {display: flex;flex-direction: column;align-items: center;background-color: white;padding-right: 0.2em;padding-left: 0.2em;position: relative;}#sk-container-id-3 div.sk-item {position: relative;z-index: 1;}#sk-container-id-3 div.sk-parallel {display: flex;align-items: stretch;justify-content: center;background-color: white;position: relative;}#sk-container-id-3 div.sk-item::before, #sk-container-id-3 div.sk-parallel-item::before {content: \"\";position: absolute;border-left: 1px solid gray;box-sizing: border-box;top: 0;bottom: 0;left: 50%;z-index: -1;}#sk-container-id-3 div.sk-parallel-item {display: flex;flex-direction: column;z-index: 1;position: relative;background-color: white;}#sk-container-id-3 div.sk-parallel-item:first-child::after {align-self: flex-end;width: 50%;}#sk-container-id-3 div.sk-parallel-item:last-child::after {align-self: flex-start;width: 50%;}#sk-container-id-3 div.sk-parallel-item:only-child::after {width: 0;}#sk-container-id-3 div.sk-dashed-wrapped {border: 1px dashed gray;margin: 0 0.4em 0.5em 0.4em;box-sizing: border-box;padding-bottom: 0.4em;background-color: white;}#sk-container-id-3 div.sk-label label {font-family: monospace;font-weight: bold;display: inline-block;line-height: 1.2em;}#sk-container-id-3 div.sk-label-container {text-align: center;}#sk-container-id-3 div.sk-container {/* jupyter's `normalize.less` sets `[hidden] { display: none; }` but bootstrap.min.css set `[hidden] { display: none !important; }` so we also need the `!important` here to be able to override the default hidden behavior on the sphinx rendered scikit-learn.org. See: https://github.com/scikit-learn/scikit-learn/issues/21755 */display: inline-block !important;position: relative;}#sk-container-id-3 div.sk-text-repr-fallback {display: none;}</style><div id=\"sk-container-id-3\" class=\"sk-top-container\"><div class=\"sk-text-repr-fallback\"><pre>Ridge()</pre><b>In a Jupyter environment, please rerun this cell to show the HTML representation or trust the notebook. <br />On GitHub, the HTML representation is unable to render, please try loading this page with nbviewer.org.</b></div><div class=\"sk-container\" hidden><div class=\"sk-item\"><div class=\"sk-estimator sk-toggleable\"><input class=\"sk-toggleable__control sk-hidden--visually\" id=\"sk-estimator-id-3\" type=\"checkbox\" checked><label for=\"sk-estimator-id-3\" class=\"sk-toggleable__label sk-toggleable__label-arrow\">Ridge</label><div class=\"sk-toggleable__content\"><pre>Ridge()</pre></div></div></div></div></div>"
            ]
          },
          "metadata": {},
          "execution_count": 92
        }
      ]
    },
    {
      "cell_type": "code",
      "source": [
        "# давайте предскажем результат для тестовой выборки\n",
        "\n",
        "y_1_preds = regressor_1.predict(X_test)\n",
        "y_2_preds = regressor_2.predict(X_test)\n"
      ],
      "metadata": {
        "id": "7rwVN9wXZdbX"
      },
      "execution_count": 93,
      "outputs": []
    },
    {
      "cell_type": "markdown",
      "source": [
        "### оценка результатов алгоритма\n",
        "В качестве метрики будем использовать среднюю абсолютную ошибку. Она показывает отклонение от правильного ответа в тех же единах измерения\n",
        "\n",
        "(а вообще есть разные способы)"
      ],
      "metadata": {
        "id": "ct_yyGSiZjFk"
      }
    },
    {
      "cell_type": "code",
      "source": [
        "print('MAE модели LinearRegression:')\n",
        "print(mean_absolute_error(y_test, y_1_preds))\n",
        "print('')\n",
        "print('MAE модели Ridge:')\n",
        "print(mean_absolute_error(y_test, y_2_preds))\n",
        "print('')\n",
        "print('MSE модели LinearRegression:')\n",
        "print(mean_squared_error(y_test, y_1_preds))\n",
        "print('')\n",
        "print('MSE модели Ridge:')\n",
        "print(mean_squared_error(y_test, y_2_preds))"
      ],
      "metadata": {
        "colab": {
          "base_uri": "https://localhost:8080/"
        },
        "id": "bR8u3C41Zg0M",
        "outputId": "fefa34e0-a424-41c9-e117-189e28a5575b"
      },
      "execution_count": 97,
      "outputs": [
        {
          "output_type": "stream",
          "name": "stdout",
          "text": [
            "MAE модели LinearRegression:\n",
            "0.42440862286440756\n",
            "\n",
            "MAE модели Ridge:\n",
            "0.42437663765266387\n",
            " \n",
            "MSE модели LinearRegression:\n",
            "0.3302016554783566\n",
            "\n",
            "MSE модели Ridge:\n",
            "0.3300933565659015\n"
          ]
        }
      ]
    },
    {
      "cell_type": "markdown",
      "source": [
        "### Вывод:\n",
        "\n",
        "Как видим лучшее значение показывает модель Ridge."
      ],
      "metadata": {
        "id": "PbPop4HTbe22"
      }
    }
  ]
}